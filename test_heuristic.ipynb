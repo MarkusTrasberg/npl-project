{
 "cells": [
  {
   "cell_type": "code",
   "execution_count": 2,
   "metadata": {},
   "outputs": [],
   "source": [
    "from openicl import (DatasetReader, PromptTemplate, \n",
    "                     ZeroRetriever, RandomRetriever, BM25Retriever, TopkRetriever,\n",
    "                     GenInferencer, PPLInferencer)\n",
    "from openicl.icl_dataset_reader import load_dataset\n",
    "import pandas as pd\n",
    "from accelerate import Accelerator\n",
    "from QPKTabuRetriever import QPKTabuRetriever\n",
    "import numpy as np\n",
    "import matplotlib.pyplot as plt"
   ]
  },
  {
   "cell_type": "code",
   "execution_count": 3,
   "metadata": {},
   "outputs": [],
   "source": [
    "MODELS = [\"xlm-roberta-large\", \"gpt2-large\", 'facebook/xglm-1.7B']\n",
    "TASKS = ['question-answering', 'sentiment-analysis']\n",
    "DATASET_NAMES = {\n",
    "    'question-answering':['commonsense_qa','tasksource/bigbench', 'openbookqa'],\n",
    "    'sentiment-analysis':['gpt3mix/rt20', 'gpt3mix/sst2', \"rotten_tomatoes\"]\n",
    "}\n",
    "RETRIEVERS = ['qkp', 'bm25','zero', 'topk','random']"
   ]
  },
  {
   "cell_type": "code",
   "execution_count": 4,
   "metadata": {},
   "outputs": [],
   "source": [
    "def cmqa_pre_process(example):\n",
    "    for i in range(5):\n",
    "        example[chr(ord('A') + i)] = example['choices']['text'][i]\n",
    "    return example\n",
    "\n",
    "def obqa_pre_process(example):\n",
    "    for i in range(4):\n",
    "        example[chr(ord('A') + i)] = example['choices']['text'][i]\n",
    "    example['context'] = \"Open book questions\"\n",
    "    return example\n",
    "\n",
    "def yelp_pre_process(example):\n",
    "    example['label'] = int(int(example['label'] >= 2))\n",
    "    return example\n",
    "\n",
    "def bb_pre_process(example):\n",
    "    for i in range(3):\n",
    "        example[chr(ord('A') + i)] = example['multiple_choice_targets'][i]\n",
    "    example['multiple_choice_scores'] = chr(ord('A') + np.where(np.array(example['multiple_choice_scores']) == 1)[0][0])\n",
    "    example['context'] = \"Disambiguation\"\n",
    "    return example"
   ]
  },
  {
   "cell_type": "code",
   "execution_count": 5,
   "metadata": {},
   "outputs": [],
   "source": [
    "def select_dataset(name, test_size, train_size):\n",
    "    if name == 'commonsense_qa':\n",
    "        dataset = load_dataset(name, split='train')\n",
    "        dataset = dataset.train_test_split(test_size=test_size, train_size=train_size, shuffle=True)\n",
    "        dataset = dataset.map(cmqa_pre_process)\n",
    "        dataset = dataset.rename_column(\"question_concept\",\"context\")\n",
    "        dataset = dataset.rename_column(\"answerKey\",\"answer\")\n",
    "        input_cols = [\"question\", \"context\", \"A\", \"B\", \"C\", \"D\", \"E\"]\n",
    "        return DatasetReader(dataset=dataset, input_columns=input_cols, output_column=\"answer\")\n",
    "    elif name == 'openbookqa':\n",
    "        dataset = load_dataset(name, 'main', split='train')\n",
    "        dataset = dataset.train_test_split(test_size=test_size, train_size=train_size, shuffle=True)\n",
    "        dataset = dataset.map(obqa_pre_process)\n",
    "        dataset = dataset.rename_column(\"question_stem\",\"question\")\n",
    "        dataset = dataset.rename_column(\"answerKey\",\"answer\")\n",
    "        input_cols = [\"question\", \"context\", \"A\", \"B\", \"C\", \"D\"]\n",
    "        return DatasetReader(dataset=dataset, input_columns=input_cols, output_column=\"answer\")\n",
    "    elif name == 'tasksource/bigbench':\n",
    "        dataset = load_dataset(name, 'disambiguation_qa', split='train')\n",
    "        dataset = dataset.train_test_split(test_size=test_size, train_size=train_size, shuffle=True)\n",
    "        dataset = dataset.map(bb_pre_process)\n",
    "        dataset = dataset.rename_column(\"multiple_choice_scores\",\"answer\")\n",
    "        dataset = dataset.rename_column(\"inputs\",\"question\")\n",
    "        input_cols = [\"question\", \"context\", \"A\", \"B\", \"C\"]\n",
    "        return DatasetReader(dataset=dataset, input_columns=input_cols, output_column=\"answer\")\n",
    "    elif name == 'gpt3mix/rt20' or name == 'gpt3mix/sst2':\n",
    "        dataset = load_dataset(name, split='train')\n",
    "        dataset = dataset.train_test_split(test_size=test_size, train_size=train_size, shuffle=True)\n",
    "        return DatasetReader(dataset=dataset, input_columns=[\"text\"], output_column=\"label\")\n",
    "    elif name == \"rotten_tomatoes\":\n",
    "        dataset = load_dataset(name, split='test')\n",
    "        dataset = dataset.train_test_split(test_size=test_size, train_size=train_size, shuffle=True)\n",
    "        return DatasetReader(dataset=dataset, input_columns=[\"text\"], output_column=\"label\")\n"
   ]
  },
  {
   "cell_type": "code",
   "execution_count": 6,
   "metadata": {},
   "outputs": [],
   "source": [
    "TEMPLATES = {\n",
    "    'commonsense_qa':PromptTemplate(\n",
    "        {\n",
    "            'A': \"</E>Answer the following question:\\n</Q>\\nAnswer: </Ans1>\",\n",
    "            'B': \"</E>Answer the following question:\\n</Q>\\nAnswer: </Ans2>\",\n",
    "            'C': \"</E>Answer the following question:\\n</Q>\\nAnswer: </Ans3>\",\n",
    "            'D': \"</E>Answer the following question:\\n</Q>\\nAnswer: </Ans4>\",\n",
    "            'E': \"</E>Answer the following question:\\n</Q>\\nAnswer: </Ans5>\",\n",
    "        },\n",
    "        {'question':'</Q>', 'A': '</Ans1>', 'B': '</Ans2>', 'C': '</Ans3>', 'D': '</Ans4>', 'E': '</Ans5>'},\n",
    "        ice_token='</E>' \n",
    "    ),\n",
    "    'openbookqa':PromptTemplate(\n",
    "        \"</E>Multiple choice question:\\n</Q>\\nChoices:\\nA:</Ans1>\\nB:</Ans2>\\nC:</Ans3>\\nD:</Ans4>\\n:Answer:</A>\",\n",
    "        {'question':'</Q>', 'A': '</Ans1>', 'B': '</Ans2>', 'C': '</Ans3>', 'D': '</Ans4>', \"answer\":\"</A>\"},\n",
    "        ice_token='</E>' \n",
    "    ),\n",
    "    'tasksource/bigbench':PromptTemplate(\n",
    "        {\n",
    "            'A': \"</E>Answer the following question:\\n</Q>\\nAnswer: </Ans1>\",\n",
    "            'B': \"</E>Answer the following question:\\n</Q>\\nAnswer: </Ans2>\",\n",
    "            'C': \"</E>Answer the following question:\\n</Q>\\nAnswer: </Ans3>\"\n",
    "        },\n",
    "        {'question':'</Q>', 'A': '</Ans1>', 'B': '</Ans2>', 'C': '</Ans3>'},\n",
    "        ice_token='</E>' \n",
    "    ),\n",
    "    'gpt3mix/rt20':PromptTemplate({\n",
    "            0: '</E>Positive Movie Review: \\\"<X>\\\"', \n",
    "            1: '</E>Negative Movie Review: \\\"<X>\\\"',\n",
    "        }, column_token_map={'text' : '<X>'}, \n",
    "        ice_token='</E>'\n",
    "    ),\n",
    "    'gpt3mix/sst2':PromptTemplate({\n",
    "            0: '</E>Positive Movie Review: \\\"<X>\\\"', \n",
    "            1: '</E>Negative Movie Review: \\\"<X>\\\"',\n",
    "        }, column_token_map={'text' : '<X>'}, \n",
    "        ice_token='</E>'\n",
    "    ),\n",
    "    'rotten_tomatoes':PromptTemplate({\n",
    "            1: '</E>Positive Movie Review: \\\"<X>\\\"', \n",
    "            0: '</E>Negative Movie Review: \\\"<X>\\\"',\n",
    "        }, column_token_map={'text' : '<X>'}, \n",
    "        ice_token='</E>'\n",
    "    ),\n",
    "    \n",
    "}"
   ]
  },
  {
   "cell_type": "code",
   "execution_count": 7,
   "metadata": {},
   "outputs": [],
   "source": [
    "def select_retriever(retr_name, data, model, task, ice_num):\n",
    "    if retr_name == 'zero':\n",
    "        return ZeroRetriever(data)\n",
    "    elif retr_name == 'random':\n",
    "        return RandomRetriever(data, ice_num=ice_num)\n",
    "    elif retr_name == 'bm25':\n",
    "        return BM25Retriever(data, ice_num=ice_num)\n",
    "    elif retr_name == 'qkp':\n",
    "        return QPKTabuRetriever(data, model=model, task=task, ice_num=ice_num)\n",
    "    elif retr_name == 'topk':\n",
    "        return TopkRetriever(data, ice_num=ice_num)\n",
    "    else:\n",
    "        raise Exception()"
   ]
  },
  {
   "cell_type": "code",
   "execution_count": 8,
   "metadata": {},
   "outputs": [],
   "source": [
    "def do_single_run(model, task, dataset_name, retr_name, ice_num, test_size, train_size):\n",
    "    data = select_dataset(dataset_name, test_size, train_size)\n",
    "    retriever = select_retriever(retr_name, data, model, task, ice_num)\n",
    "    if retriever.tokenizer.pad_token is None:\n",
    "        retriever.tokenizer.pad_token = \"[PAD]\"\n",
    "    inferencer = GenInferencer(model_name=model)\n",
    "    ice_template = TEMPLATES[dataset_name] \n",
    "    predictions = inferencer.inference(retriever, ice_template=ice_template, output_json_filename=\"output_gen.json\")\n",
    "    pred_new = list()\n",
    "    for pred in predictions:\n",
    "        try:\n",
    "            pred_new.append(re.findall('Answer:[A-Z]', pred)[0].split(':')[-1])\n",
    "        except:\n",
    "            pred_new.append('')\n",
    "    inputs = {\n",
    "            input_col:retriever.test_ds[input_col] for input_col in retriever.dataset_reader.input_columns\n",
    "        }\n",
    "    outputs = retriever.test_ds[retriever.dataset_reader.output_column]\n",
    "    accuracy = np.sum(np.array(retriever.test_ds[retriever.dataset_reader.output_column]) == np.array(predictions))\n",
    "    return pred_new, inputs, outputs, accuracy\n"
   ]
  },
  {
   "cell_type": "code",
   "execution_count": 9,
   "metadata": {},
   "outputs": [],
   "source": [
    "# results = {\n",
    "#     'model':[],\n",
    "#     'task':[],\n",
    "#     'dataset':[],\n",
    "#     'retriever':[],\n",
    "#     'accuracy_mean':[],\n",
    "#     'accuracy_std':[],\n",
    "#     'predictions':[],\n",
    "#     'inputs':[],\n",
    "#     'outputs':[]\n",
    "# }\n",
    "\n",
    "# accelerator = Accelerator()\n",
    "# ice_num = 5\n",
    "# reps = 2\n",
    "\n",
    "# for model in MODELS[1:]:\n",
    "#     for task in TASKS[1:]:\n",
    "#         for dataset_name in DATASET_NAMES[task][1:]:\n",
    "#             for retr_name in RETRIEVERS[:2]:\n",
    "                \n",
    "#                 print(retr_name)\n",
    "#                 accuracies = list()\n",
    "#                 all_predictions = list()\n",
    "#                 all_inputs = list()\n",
    "#                 all_outputs = list()\n",
    "\n",
    "#                 results['model'].append(model)\n",
    "#                 results['task'].append(task)\n",
    "#                 results['dataset'].append(dataset_name)\n",
    "#                 results['retriever'].append(retr_name)\n",
    "\n",
    "#                 for _ in range(reps):\n",
    "#                     predictions, inputs, outputs, accuracy = do_single_run(model, task, dataset_name, retr_name, ice_num, accelerator)\n",
    "#                     all_predictions.append(predictions)\n",
    "#                     all_inputs.append(inputs)\n",
    "#                     all_outputs.append(outputs)\n",
    "#                     accuracies.append(accuracy)\n",
    "                \n",
    "#                 results['accuracy_mean'].append(np.mean(accuracies))\n",
    "#                 results['accuracy_std'].append(np.std(accuracies))\n",
    "#                 results['predictions'].append(all_predictions)\n",
    "#                 results['inputs'].append(all_inputs)\n",
    "#                 results['outputs'].append(all_outputs)\n",
    "\n",
    "            "
   ]
  },
  {
   "cell_type": "code",
   "execution_count": 10,
   "metadata": {},
   "outputs": [
    {
     "name": "stderr",
     "output_type": "stream",
     "text": [
      "Found cached dataset openbookqa (/home/nlonyuk/.cache/huggingface/datasets/openbookqa/main/1.0.1/f338ccacfbc86fb8c2de3aa1c06d2ce686933de3bca284dba97d32592c52b33f)\n"
     ]
    },
    {
     "data": {
      "application/vnd.jupyter.widget-view+json": {
       "model_id": "6ffe287ef50147aebfa382cbf57452d8",
       "version_major": 2,
       "version_minor": 0
      },
      "text/plain": [
       "Map:   0%|          | 0/100 [00:00<?, ? examples/s]"
      ]
     },
     "metadata": {},
     "output_type": "display_data"
    },
    {
     "data": {
      "application/vnd.jupyter.widget-view+json": {
       "model_id": "8941705153694041a1a0a5807587062a",
       "version_major": 2,
       "version_minor": 0
      },
      "text/plain": [
       "Map:   0%|          | 0/10 [00:00<?, ? examples/s]"
      ]
     },
     "metadata": {},
     "output_type": "display_data"
    },
    {
     "name": "stderr",
     "output_type": "stream",
     "text": [
      "If you want to use `XLMRobertaLMHeadModel` as a standalone, add `is_decoder=True.`\n",
      "[2023-06-15 17:54:55,795] [openicl.icl_retriever.icl_bm25_retriever] [INFO] Retrieving data for test set...\n",
      "100%|██████████| 10/10 [00:00<00:00, 1432.14it/s]\n",
      "[2023-06-15 17:54:55,817] [openicl.icl_inferencer.icl_gen_inferencer] [INFO] Starting inference process...\n",
      "  0%|          | 0/10 [00:00<?, ?it/s]A decoder-only architecture is being used, but right-padding was detected! For correct generation results, please set `padding_side='left'` when initializing the tokenizer.\n",
      " 10%|█         | 1/10 [00:01<00:13,  1.45s/it]A decoder-only architecture is being used, but right-padding was detected! For correct generation results, please set `padding_side='left'` when initializing the tokenizer.\n",
      " 20%|██        | 2/10 [00:03<00:12,  1.59s/it]A decoder-only architecture is being used, but right-padding was detected! For correct generation results, please set `padding_side='left'` when initializing the tokenizer.\n",
      " 30%|███       | 3/10 [00:04<00:11,  1.63s/it]A decoder-only architecture is being used, but right-padding was detected! For correct generation results, please set `padding_side='left'` when initializing the tokenizer.\n",
      " 40%|████      | 4/10 [00:06<00:09,  1.51s/it]A decoder-only architecture is being used, but right-padding was detected! For correct generation results, please set `padding_side='left'` when initializing the tokenizer.\n",
      " 50%|█████     | 5/10 [00:07<00:07,  1.52s/it]A decoder-only architecture is being used, but right-padding was detected! For correct generation results, please set `padding_side='left'` when initializing the tokenizer.\n",
      " 60%|██████    | 6/10 [00:08<00:05,  1.41s/it]A decoder-only architecture is being used, but right-padding was detected! For correct generation results, please set `padding_side='left'` when initializing the tokenizer.\n",
      " 70%|███████   | 7/10 [00:10<00:04,  1.41s/it]A decoder-only architecture is being used, but right-padding was detected! For correct generation results, please set `padding_side='left'` when initializing the tokenizer.\n"
     ]
    }
   ],
   "source": [
    "predictions, inputs, outputs, accuracy = do_single_run(MODELS[0], TASKS[0], 'openbookqa', 'bm25', 3, 10, 100)\n",
    "print(predictions)\n",
    "print(inputs)\n",
    "print(outputs)\n",
    "print(accuracy)"
   ]
  },
  {
   "cell_type": "code",
   "execution_count": null,
   "metadata": {},
   "outputs": [
    {
     "name": "stdout",
     "output_type": "stream",
     "text": [
      "usually plants die or become dormant after the\n",
      "lowest solstice\n",
      "naptime\n",
      "a good book\n",
      "lunch\n",
      "A\n"
     ]
    },
    {
     "ename": "IndexError",
     "evalue": "list index out of range",
     "output_type": "error",
     "traceback": [
      "\u001b[0;31m---------------------------------------------------------------------------\u001b[0m",
      "\u001b[0;31mIndexError\u001b[0m                                Traceback (most recent call last)",
      "Cell \u001b[0;32mIn[49], line 10\u001b[0m\n\u001b[1;32m      7\u001b[0m \u001b[39mprint\u001b[39m(inputs[\u001b[39m'\u001b[39m\u001b[39mD\u001b[39m\u001b[39m'\u001b[39m][i])\n\u001b[1;32m      9\u001b[0m \u001b[39mprint\u001b[39m(outputs[i])\n\u001b[0;32m---> 10\u001b[0m \u001b[39mprint\u001b[39m(re\u001b[39m.\u001b[39;49mfindall(\u001b[39m'\u001b[39;49m\u001b[39mAnswer:[A-Z]\u001b[39;49m\u001b[39m'\u001b[39;49m, predictions[i])[\u001b[39m0\u001b[39;49m]\u001b[39m.\u001b[39msplit(\u001b[39m'\u001b[39m\u001b[39m:\u001b[39m\u001b[39m'\u001b[39m)[\u001b[39m-\u001b[39m\u001b[39m1\u001b[39m])\n",
      "\u001b[0;31mIndexError\u001b[0m: list index out of range"
     ]
    }
   ],
   "source": [
    "import re\n",
    "for i in range(len(inputs['question'])):\n",
    "    print(inputs['question'][i])\n",
    "    print(inputs['A'][i])\n",
    "    print(inputs['B'][i])\n",
    "    print(inputs['C'][i])\n",
    "    print(inputs['D'][i])\n",
    "\n",
    "    print(outputs[i])\n",
    "    print(re.findall('Answer:[A-Z]', predictions[i])[0].split(':')[-1])\n",
    "\n"
   ]
  },
  {
   "cell_type": "code",
   "execution_count": null,
   "metadata": {},
   "outputs": [],
   "source": [
    "prompt_template = PromptTemplate(\n",
    "        \"Answer the following question: </Q>\\nChoose the correct answer:{A: </Ans1>,B: </Ans2>,C: </Ans3>,D: </Ans4>}</A>\",\n",
    "        {'question':'</Q>', 'A': '</Ans1>', 'B': '</Ans2>', 'C': '</Ans3>', 'D': '</Ans4>', 'answer': '</A>'},\n",
    ")\n",
    "\n",
    "inf = GenInferencer(model_name=\"gpt2-large\")\n",
    "pred = inf.inference(BM25Retriever(select_dataset('openbookqa', 2, 20)), ice_template=TEMPLATES['openbookqa'])\n",
    "pred"
   ]
  },
  {
   "cell_type": "code",
   "execution_count": null,
   "metadata": {},
   "outputs": [],
   "source": [
    "pred[0]"
   ]
  },
  {
   "cell_type": "code",
   "execution_count": null,
   "metadata": {},
   "outputs": [],
   "source": [
    "def plot(x, ys, title, labels, savefile):\n",
    "    configs = ['g*-', 'bo-', 'r+-']\n",
    "    fig = plt.figure()\n",
    "    ax = fig.gca()\n",
    "    # ax.set_xscale('log')\n",
    "    ax.set_xticks(x)\n",
    "    ax.set_xticklabels(x)\n",
    "    ax.set_title(title)\n",
    "    plt.grid()\n",
    "    for idx, y in enumerate(ys):\n",
    "        plt.plot(x, y, configs[idx], label=labels[idx])\n",
    "        plt.legend()\n",
    "    plt.savefig(f'{savefile}.png')"
   ]
  },
  {
   "cell_type": "code",
   "execution_count": null,
   "metadata": {},
   "outputs": [],
   "source": [
    "for task in TASKS:\n",
    "    df_instance = df_results[df_results['task'] == task]\n",
    "    evals = [df_instance[df_instance['retriever'] == retr_name]['accuracy_mean'] for retr_name in RETRIEVERS]\n",
    "\n",
    "    plot(DATASET_NAMES[task], evals, f'Mean acccuracy for task: {task}', RETRIEVERS, f'{task}_evals')\n"
   ]
  }
 ],
 "metadata": {
  "kernelspec": {
   "display_name": "Python 3",
   "language": "python",
   "name": "python3"
  },
  "language_info": {
   "codemirror_mode": {
    "name": "ipython",
    "version": 3
   },
   "file_extension": ".py",
   "mimetype": "text/x-python",
   "name": "python",
   "nbconvert_exporter": "python",
   "pygments_lexer": "ipython3",
   "version": "3.10.6"
  },
  "orig_nbformat": 4
 },
 "nbformat": 4,
 "nbformat_minor": 2
}
